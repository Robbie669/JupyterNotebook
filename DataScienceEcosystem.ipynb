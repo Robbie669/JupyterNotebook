{
 "cells": [
  {
   "cell_type": "markdown",
   "id": "c199486d-6a47-4dca-9796-1c5cf6e5ce11",
   "metadata": {},
   "source": [
    "# Data Science Tools and Ecosystem"
   ]
  },
  {
   "cell_type": "markdown",
   "id": "c7dda5bb-df38-4698-a60c-6f13b5d2c65a",
   "metadata": {},
   "source": [
    "In this notebook, Data Science Tools and Ecosystem are summarized."
   ]
  },
  {
   "cell_type": "markdown",
   "id": "cc372d2b-fd65-4cc0-8af0-a0551f5beb0f",
   "metadata": {},
   "source": [
    "**Objectives:**\n",
    "* Popular languages that Data Scientists\n",
    "* Commonly used libraries\n",
    "* Table of Data Science Tools\n",
    "* Arithmetic expressions in Python"
   ]
  },
  {
   "cell_type": "markdown",
   "id": "10ad25a0-e7ed-44e1-8f5e-a4ed04b43fc7",
   "metadata": {},
   "source": [
    "Some of the popular languages that Data Scientists use are:\n",
    "1. Python\n",
    "2. R\n",
    "3. SQL\n",
    "4. Java\n",
    "5. Scala\n",
    "6. C++\n",
    "7. Julia\n",
    "8. PHP\n",
    "9. Javascript\n",
    "10. Go\n",
    "11. Ruby\n",
    "12. Visual Basic"
   ]
  },
  {
   "cell_type": "markdown",
   "id": "1baee1d7-079c-4f69-8273-ac857bab5344",
   "metadata": {},
   "source": [
    "Some of the commonly used libraries used by Data Scientists include:\n",
    "1. Pandas\n",
    "2. Numpy\n",
    "3. Seaborn\n",
    "4. Keras\n",
    "5. Matplotlib\n",
    "6. Scikit-learn\n",
    "7. TensorFlow\n",
    "8. PyTorch\n",
    "9. Vegas\n",
    "10. Apache Spark\n",
    "11. Big DL\n",
    "12. Ggplot2"
   ]
  },
  {
   "cell_type": "markdown",
   "id": "13a900f9-60b2-492e-a46e-6b4bd6524ac1",
   "metadata": {},
   "source": [
    "| Data Science Tools |\n",
    "|--------------------|\n",
    "| Jupyter Notebook |\n",
    "| RStudio |\n",
    "| VS Code |"
   ]
  },
  {
   "cell_type": "markdown",
   "id": "5600f6d8-8056-4738-b756-f0982c4969e8",
   "metadata": {},
   "source": [
    "### Below are a few examples of evaluating arithmetic expressions in Python"
   ]
  },
  {
   "cell_type": "code",
   "execution_count": 13,
   "id": "118bb332-b5d6-414c-9d34-df93a7e97bb3",
   "metadata": {},
   "outputs": [
    {
     "data": {
      "text/plain": [
       "17"
      ]
     },
     "execution_count": 13,
     "metadata": {},
     "output_type": "execute_result"
    }
   ],
   "source": [
    "#This a simple arithmetic expression to multiply then add integers\n",
    "(3*4)+5"
   ]
  },
  {
   "cell_type": "code",
   "execution_count": 15,
   "id": "55efa630-22a8-4a10-a3dc-c5c4689ec374",
   "metadata": {},
   "outputs": [
    {
     "data": {
      "text/plain": [
       "3"
      ]
     },
     "execution_count": 15,
     "metadata": {},
     "output_type": "execute_result"
    }
   ],
   "source": [
    "#This will convert 200 minutes to hours by diving by 60\n",
    "200 // 60"
   ]
  },
  {
   "cell_type": "markdown",
   "id": "2ee812eb-4a65-4bd9-b012-8600a2b858ad",
   "metadata": {},
   "source": [
    "## Author\n",
    "## Robbie Hung"
   ]
  }
 ],
 "metadata": {
  "kernelspec": {
   "display_name": "anaconda-panel-2023.05-py310",
   "language": "python",
   "name": "conda-env-anaconda-panel-2023.05-py310-py"
  },
  "language_info": {
   "codemirror_mode": {
    "name": "ipython",
    "version": 3
   },
   "file_extension": ".py",
   "mimetype": "text/x-python",
   "name": "python",
   "nbconvert_exporter": "python",
   "pygments_lexer": "ipython3",
   "version": "3.11.5"
  }
 },
 "nbformat": 4,
 "nbformat_minor": 5
}
